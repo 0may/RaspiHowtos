{
 "cells": [
  {
   "cell_type": "markdown",
   "metadata": {},
   "source": [
    "# How to connect to an Arduino board for extended IO"
   ]
  },
  {
   "cell_type": "markdown",
   "metadata": {},
   "source": [
    "The Raspberry Pi does not have analogue inputs. We can use an Arduino board to add analogue readings to the Raspberry Pi. The Arduino needs to run standard **Firmata** firmware. You find the Firmata sketch in the Arduino IDE under *File -> Examples -> Firmata -> StandardFirmata*. Just upload the sketch to the Arduino and connect it to your Raspberry Pi via USB cable.\n",
    "\n",
    "Firmata let's you talk to the Arduino board using serial communication over the USB cable. We use the Python module **pyFirmata2** manage this serial communication.\n",
    "\n",
    "Connect an LED in series with a 330 Ohm resistor on the Arduino's pin 9 and a potentiometer on analogue pin A0."
   ]
  },
  {
   "cell_type": "markdown",
   "metadata": {},
   "source": [
    "### Initialization"
   ]
  },
  {
   "cell_type": "code",
   "execution_count": 39,
   "metadata": {},
   "outputs": [
    {
     "name": "stdout",
     "output_type": "stream",
     "text": [
      "Arduino /dev/ttyACM0 on /dev/ttyACM0\n"
     ]
    }
   ],
   "source": [
    "from time import sleep\n",
    "from pyfirmata2 import Arduino\n",
    "\n",
    "# init Arduino connection\n",
    "board = Arduino(Arduino.AUTODETECT) \n",
    "print(board)\n",
    "\n",
    "# turn on sampling, default sampling interval is 19ms\n",
    "# change sampling interval by providing the new value\n",
    "# a input parameter in ms (50ms here). Minimum is 10ms\n",
    "# Analogue values are sampled continuously and sent to\n",
    "# your Raspberry Pi. Watch the TX (transmit) LED on the \n",
    "# Arduino blink with different rates for different sampling\n",
    "# interval values\n",
    "board.samplingOn(50)\n",
    "\n",
    "# get handles on pins: watch the pin patterns 'X:Y:Z'\n",
    "# X must be 'a' for analogue or 'd' for digital pin\n",
    "# Y is the decimal pin number\n",
    "# Z must be 'i' for input or 'o' for output \n",
    "#   (there is also an option PWM, please refer to the pyFirmata2 API)\n",
    "pinA0 = board.get_pin('a:0:i')   # analogue pin A0\n",
    "pin9 = board.get_pin('d:9:o')    # digital pin 9\n",
    "pin13 = board.get_pin('d:13:o')  # digital pin 13, also connected to an on-board LED\n"
   ]
  },
  {
   "cell_type": "markdown",
   "metadata": {},
   "source": [
    "### Digital write"
   ]
  },
  {
   "cell_type": "code",
   "execution_count": 27,
   "metadata": {},
   "outputs": [],
   "source": [
    "# blink LEDs 10 times\n",
    "for i in range(10):\n",
    "\n",
    "    pin9.write(1)\n",
    "    pin13.write(0)\n",
    "    sleep(0.2)\n",
    "    \n",
    "    pin9.write(0)\n",
    "    pin13.write(1)\n",
    "    sleep(0.2)\n"
   ]
  },
  {
   "cell_type": "markdown",
   "metadata": {},
   "source": [
    "### Analogue read"
   ]
  },
  {
   "cell_type": "code",
   "execution_count": 41,
   "metadata": {},
   "outputs": [
    {
     "name": "stdout",
     "output_type": "stream",
     "text": [
      "0.4252\n"
     ]
    }
   ],
   "source": [
    "# read analogue value on pin A0, returns value from 0.0 to 1.0\n",
    "# In fact, just returns the last value from automatic sampling \n",
    "# (see the comment above on samplingOn())\n",
    "val = pinA0.read()\n",
    "\n",
    "print(val)"
   ]
  },
  {
   "cell_type": "markdown",
   "metadata": {},
   "source": [
    "### Clean up"
   ]
  },
  {
   "cell_type": "code",
   "execution_count": 42,
   "metadata": {},
   "outputs": [],
   "source": [
    "# close connection to arduino\n",
    "board.exit()"
   ]
  },
  {
   "cell_type": "markdown",
   "metadata": {},
   "source": [
    "# Video scrubbing\n",
    "\n",
    "Use a potentiometer at analogue pin A0 to select the displayed frame."
   ]
  },
  {
   "cell_type": "code",
   "execution_count": 1,
   "metadata": {},
   "outputs": [
    {
     "name": "stdout",
     "output_type": "stream",
     "text": [
      "Arduino /dev/ttyACM0 on /dev/ttyACM0\n",
      "number of frames: 43.0\n",
      "selected frame: 1\n",
      "selected frame: 6\n",
      "selected frame: 9\n",
      "selected frame: 11\n",
      "selected frame: 14\n",
      "selected frame: 19\n",
      "selected frame: 24\n",
      "selected frame: 27\n",
      "selected frame: 26\n",
      "selected frame: 22\n",
      "selected frame: 21\n",
      "selected frame: 17\n",
      "selected frame: 8\n",
      "selected frame: 5\n",
      "selected frame: 2\n",
      "selected frame: 0\n",
      "selected frame: 1\n",
      "selected frame: 8\n",
      "selected frame: 13\n",
      "selected frame: 19\n",
      "selected frame: 22\n",
      "selected frame: 27\n",
      "selected frame: 32\n",
      "selected frame: 35\n",
      "selected frame: 39\n",
      "selected frame: 42\n",
      "selected frame: 41\n",
      "selected frame: 36\n",
      "selected frame: 32\n",
      "selected frame: 28\n",
      "selected frame: 27\n",
      "selected frame: 26\n",
      "selected frame: 24\n",
      "selected frame: 25\n",
      "selected frame: 28\n",
      "selected frame: 31\n",
      "selected frame: 33\n",
      "selected frame: 35\n",
      "selected frame: 37\n",
      "selected frame: 39\n",
      "selected frame: 41\n",
      "selected frame: 42\n",
      "selected frame: 41\n",
      "selected frame: 33\n",
      "selected frame: 27\n",
      "selected frame: 24\n",
      "selected frame: 22\n",
      "selected frame: 21\n",
      "selected frame: 18\n",
      "selected frame: 13\n",
      "selected frame: 8\n",
      "selected frame: 3\n",
      "selected frame: 0\n",
      "selected frame: 1\n",
      "selected frame: 5\n",
      "selected frame: 13\n",
      "selected frame: 19\n",
      "selected frame: 24\n",
      "selected frame: 21\n",
      "selected frame: 14\n",
      "selected frame: 8\n",
      "selected frame: 3\n",
      "selected frame: 1\n",
      "selected frame: 0\n",
      "selected frame: 1\n",
      "selected frame: 5\n",
      "selected frame: 9\n",
      "selected frame: 12\n",
      "selected frame: 10\n",
      "selected frame: 6\n",
      "selected frame: 2\n",
      "selected frame: 0\n"
     ]
    }
   ],
   "source": [
    "import cv2\n",
    "import numpy as np\n",
    "from pyfirmata2 import Arduino\n",
    "\n",
    "# init Arduino connection\n",
    "board = Arduino(Arduino.AUTODETECT) \n",
    "print(board)\n",
    "board.samplingOn(20)\n",
    "pinA0 = board.get_pin('a:0:i')   # analogue pin A0\n",
    "\n",
    " \n",
    "# Create a VideoCapture object and read from input file\n",
    "# If the input is the camera, pass 0 instead of the video file name\n",
    "cap = cv2.VideoCapture('resources/vid.mp4')\n",
    "\n",
    "# if video init fails, clean up and exit\n",
    "if not cap.isOpened():\n",
    "    print(\"Error: Could not open video.\")\n",
    "    board.exit()\n",
    "    exit()\n",
    "    \n",
    "    \n",
    "# create fullscreen window for display\n",
    "window_name = \"mywindow\"\n",
    "cv2.namedWindow(window_name, cv2.WND_PROP_FULLSCREEN)\n",
    "cv2.setWindowProperty(window_name, cv2.WND_PROP_FULLSCREEN, cv2.WINDOW_FULLSCREEN)\n",
    "  \n",
    "# get the number of frames of the video\n",
    "numFrames = cap.get(cv2.CAP_PROP_FRAME_COUNT)\n",
    "print(\"number of frames: {}\".format(numFrames))\n",
    "\n",
    "frameIdx = 0  # frame index\n",
    " \n",
    "# run until Q is pressed\n",
    "while(True):\n",
    " \n",
    "    # Exit when key Q is pressed on keyboard (wait for 5ms on key press)\n",
    "    if cv2.waitKey(20) & 0xFF == ord('q'):\n",
    "        break\n",
    "    \n",
    "    # read analogue value from Arduino's pin A0\n",
    "    val = pinA0.read()\n",
    "    \n",
    "    # compute new frame index\n",
    "    frameIdxNew = int((val-0.0001)*numFrames)\n",
    "    \n",
    "    # if frame idx has changed, display the new frame\n",
    "    if frameIdx != frameIdxNew:\n",
    "\n",
    "        # change frameIdx variable\n",
    "        frameIdx = frameIdxNew\n",
    "        print(\"selected frame: {}\".format(frameIdx))\n",
    "\n",
    "        # set the frame idx of the VideoCapture object to read\n",
    "        cap.set(cv2.CAP_PROP_POS_FRAMES, frameIdx)\n",
    "\n",
    "        # read the frame at frameIdx\n",
    "        ret, frame = cap.read()\n",
    "\n",
    "        if ret == True:\n",
    "\n",
    "            # display frame\n",
    "            cv2.imshow(window_name,frame)\n",
    " \n",
    "\n",
    " \n",
    "# release the video capture object and quit connection to arduino board\n",
    "cv2.destroyAllWindows()\n",
    "cap.release()\n",
    "board.exit()"
   ]
  }
 ],
 "metadata": {
  "kernelspec": {
   "display_name": "Python 3",
   "language": "python",
   "name": "python3"
  },
  "language_info": {
   "codemirror_mode": {
    "name": "ipython",
    "version": 3
   },
   "file_extension": ".py",
   "mimetype": "text/x-python",
   "name": "python",
   "nbconvert_exporter": "python",
   "pygments_lexer": "ipython3",
   "version": "3.5.3"
  }
 },
 "nbformat": 4,
 "nbformat_minor": 2
}
