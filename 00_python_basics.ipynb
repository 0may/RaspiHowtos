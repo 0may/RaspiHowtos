{
 "cells": [
  {
   "cell_type": "markdown",
   "metadata": {},
   "source": [
    "# Python basics\n",
    "\n",
    "## Tools for Python\n",
    "\n",
    "### Running a Python program\n",
    "\n",
    "Jupyter lets you run Python programs interactively and step by step. Just hit CTRL+ENTER in a block of code to execute that part of the code. You can edit values and code to observe the impact of your changes. Jupyter is a valuable tool for learning and teaching. However, with more experience you would rather want to write Python scripts in a code editor for fast development. You can export a Jupyter notebook's code to a Python script using the *File->Download as->Python (.py)*\n",
    "\n",
    "Python programs are usually run by writing a Python script (.py) that is executed by a Python interpreter. In a terminal call the Python interpreter (we will use Python 3) with the path to your Python script:\n",
    "```\n",
    "> python3 myscript.py\n",
    "```\n",
    "If you are using Raspbian as OS on your Raspberry Pi, it comes with Python pre-installed. If for any reason you need to install manually, here is the command:\n",
    "```\n",
    "> sudo apt-get install python3\n",
    "```\n",
    "\n",
    "### Package installer (pip)\n",
    "\n",
    "There are numerous packages that extend the functionality of Python, e.g. its sound or graphics capabilites. You can find lots of packages on [Python Package Index (PyPI)](https://pypi.org/). Packages are installed using the Package Installer for Python (pip) using the following command:\n",
    "```\n",
    "> pip3 install packagename\n",
    "```\n",
    "If you need to install pip manually, type\n",
    "```\n",
    "> sudo apt-get install python3-pip\n",
    "```\n",
    "in a terminal.\n",
    "\n",
    "You will learn how to import funtions from packages later.\n"
   ]
  },
  {
   "cell_type": "markdown",
   "metadata": {},
   "source": [
    "## Let's start coding"
   ]
  },
  {
   "cell_type": "code",
   "execution_count": 1,
   "metadata": {},
   "outputs": [
    {
     "name": "stdout",
     "output_type": "stream",
     "text": [
      "Hello world!\n"
     ]
    }
   ],
   "source": [
    "# this is a comment that will not be interpreted by Python\n",
    "# print a string\n",
    "print('Hello world!')"
   ]
  },
  {
   "cell_type": "markdown",
   "metadata": {},
   "source": [
    "### Variables\n",
    "Variables store one type of data, e.g. decimal or floating point numbers, character strings etc."
   ]
  },
  {
   "cell_type": "code",
   "execution_count": 12,
   "metadata": {},
   "outputs": [
    {
     "name": "stdout",
     "output_type": "stream",
     "text": [
      "Hello world!\n"
     ]
    }
   ],
   "source": [
    "# assign the string 'world' to the variable var1 \n",
    "var1 = 'world'\n",
    "\n",
    "# print a string that contains the value of var1. Try changing the value of var1 \n",
    "print('Hello {}!'.format(var1))"
   ]
  },
  {
   "cell_type": "markdown",
   "metadata": {},
   "source": [
    "The type of data in a variable is changed dynamically by assigning a value:"
   ]
  },
  {
   "cell_type": "code",
   "execution_count": 11,
   "metadata": {},
   "outputs": [
    {
     "name": "stdout",
     "output_type": "stream",
     "text": [
      "Hello world!\n",
      "42 + 3.3 = 45.3\n"
     ]
    }
   ],
   "source": [
    "# assign values of different type \n",
    "var1 = 'world'\n",
    "var2 = 42\n",
    "var3 = 3.3\n",
    "\n",
    "\n",
    "# print a string that contains the value of var1. Try changing the value of var1 \n",
    "print('Hello {}!'.format(var1))\n",
    "\n",
    "# note how the type of var1 changes to floating point number\n",
    "var1 = var2 + var3\n",
    "print('{} + {} = {}'.format(var2, var3, var1))"
   ]
  },
  {
   "cell_type": "markdown",
   "metadata": {},
   "source": [
    "## Importing packages, calling functions and complex data\n",
    "\n",
    "Import packages with the *import* command. Then you can use function of that package by calling *packagename.function(..)*.\n",
    "Note the dot (.) to specify any kind of named sub-element of any kind of data like packages, complex objects etc.\n",
    "\n",
    "We import the *time* package which provides functions to obtain time data. Find the documentation of the package here: [time package documentation](https://docs.python.org/3/library/time.html)"
   ]
  },
  {
   "cell_type": "code",
   "execution_count": 29,
   "metadata": {},
   "outputs": [
    {
     "name": "stdout",
     "output_type": "stream",
     "text": [
      "time.struct_time(tm_year=2019, tm_mon=10, tm_mday=16, tm_hour=12, tm_min=46, tm_sec=15, tm_wday=2, tm_yday=289, tm_isdst=1)\n",
      "Current date and time: 16.10.2019  12:46:15\n"
     ]
    }
   ],
   "source": [
    "# import the 'time' package completely\n",
    "import time \n",
    "\n",
    "# use the 'localtime' function from the 'time' package. \n",
    "# This function does not return a simple data type, but a more complex object with multiple values for year, month, etc.\n",
    "# That object is stored in the variable 't'\n",
    "t = time.localtime()\n",
    "\n",
    "# Note that you can print complex objects without formatting, useful for debugging your script\n",
    "print(t)\n",
    "\n",
    "# formatted printing\n",
    "print('Current date and time: {}.{}.{}  {}:{}:{}'.format(t.tm_mday, t.tm_mon, t.tm_year, t.tm_hour, t.tm_min, t.tm_sec))"
   ]
  },
  {
   "cell_type": "markdown",
   "metadata": {},
   "source": [
    "## Control structures\n",
    "\n",
    "Control structures control the program execution order. Up to now the scripts were executed sequentially each line of code after the other. With control structure you can decide which part of code is executed depending e.g. on the value of a variable (*if elif else*) or you can loop over a block of code repeatedly (*for*, *while*).\n",
    "Let's print some information depending on date and time:"
   ]
  },
  {
   "cell_type": "code",
   "execution_count": 45,
   "metadata": {},
   "outputs": [
    {
     "name": "stdout",
     "output_type": "stream",
     "text": [
      "It is 01:12PM\n"
     ]
    }
   ],
   "source": [
    "# if else\n",
    "\n",
    "t = time.localtime()\n",
    "\n",
    "# Show time in AM/PM  \n",
    "# note the format specifier :02d in {:02d}. 0 means 'fill with 0', 2 means to digits an d means decimal number.\n",
    "# Then hours and minutes are alway printed with 2 digits with a trailing 0 when values are smaller than 10\n",
    "if t.tm_hour <= 12:\n",
    "    print('It is {:02d}:{:02d}AM'.format(t.tm_hour, t.tm_min))\n",
    "else:\n",
    "    print('It is {:02d}:{:02d}PM'.format(t.tm_hour-12, t.tm_min))"
   ]
  },
  {
   "cell_type": "markdown",
   "metadata": {},
   "source": [
    "**Identation is important**: Note the identation of the print commands. Identation is key in Python. Blocks of code are specified by identation, not by surrounding brackets {...} as in many other programming languages. Wrong identation leads to errors or unwanted behaviour. "
   ]
  },
  {
   "cell_type": "code",
   "execution_count": 39,
   "metadata": {},
   "outputs": [
    {
     "name": "stdout",
     "output_type": "stream",
     "text": [
      "It is noon\n"
     ]
    }
   ],
   "source": [
    "# if elif else\n",
    "\n",
    "t = time.localtime()\n",
    "\n",
    "if t.tm_hour < 6 or t.tm_hour > 22:\n",
    "    print(\"It is night\")\n",
    "elif t.tm_hour >= 6 and t.tm_hour < 11:\n",
    "    print(\"It is morning\")\n",
    "elif t.tm_hour >= 11 and t.tm_hour < 14:\n",
    "    print(\"It is noon\")\n",
    "elif t.tm_hour >= 14 and t.tm_hour < 17:\n",
    "    print(\"It is afternoon\")\n",
    "else:\n",
    "    print(\"It is evening\")\n"
   ]
  },
  {
   "cell_type": "code",
   "execution_count": 62,
   "metadata": {},
   "outputs": [
    {
     "name": "stdout",
     "output_type": "stream",
     "text": [
      "[]\n",
      "[10, 34.01, 'aaa']\n",
      "\n",
      "[10, 34.01, 'aaa']\n",
      "[10, 34.01, 'aaa']\n",
      "\n",
      "0 3 6 "
     ]
    }
   ],
   "source": [
    "# lists and loops\n",
    "\n",
    "list1 = [] # empty list\n",
    "list2 = [10, 34.01, 'aaa'] # pre-filled list\n",
    "\n",
    "print(list1)\n",
    "print(list2, end='\\n\\n')\n",
    "\n",
    "# loop directly over the elements of a list to fill the other list\n",
    "for elem in list2:\n",
    "    list1.append(elem)\n",
    "    \n",
    "print(list1)\n",
    "print(list2, end='\\n\\n')\n",
    "\n",
    "# loop over the length of a list to access its elements by their position:\n",
    "# indices of array elements start with 0, so the 3 elements of list2 are\n",
    "# specified by 0, 1 and 2. len(list2) return 3, and range(3) returns a list with values [0, 1, 2]\n",
    "for i in range(len(list2)):\n",
    "    list2[i] = 3*i            \n",
    "    print(list2[i], end=\" \")"
   ]
  },
  {
   "cell_type": "markdown",
   "metadata": {},
   "source": [
    "## Defining functions\n",
    "\n",
    "Defining functions is key to keeping your code structured, readable und short. Parts of code that appears multiple times can be packed into a function, which then is called instead:"
   ]
  },
  {
   "cell_type": "code",
   "execution_count": 63,
   "metadata": {},
   "outputs": [
    {
     "name": "stdout",
     "output_type": "stream",
     "text": [
      "6\n",
      "55\n",
      "1770\n"
     ]
    }
   ],
   "source": [
    "# define a function with name 'sumN' and input parameter 'n' that is a decimal number\n",
    "def sumN(n):\n",
    "    s = 0\n",
    "    for i in range(1, n+1):\n",
    "        s += i\n",
    "    \n",
    "    return s\n",
    "\n",
    "print(sumN(3))\n",
    "print(sumN(10))\n",
    "print(sumN(59))"
   ]
  },
  {
   "cell_type": "markdown",
   "metadata": {},
   "source": [
    "## Wolfram's universe (cellular automaton)"
   ]
  },
  {
   "cell_type": "code",
   "execution_count": null,
   "metadata": {},
   "outputs": [
    {
     "name": "stdout",
     "output_type": "stream",
     "text": [
      "                                                                                                    <>                                                                                                  \n",
      "                                                                                                  <><>                                                                                                  \n",
      "                                                                                                <><><>                                                                                                  \n",
      "                                                                                              <><>  <>                                                                                                  \n",
      "                                                                                            <><><><><>                                                                                                  \n",
      "                                                                                          <><>      <>                                                                                                  \n",
      "                                                                                        <><><>    <><>                                                                                                  \n",
      "                                                                                      <><>  <>  <><><>                                                                                                  \n",
      "                                                                                    <><><><><><><>  <>                                                                                                  \n",
      "                                                                                  <><>          <><><>                                                                                                  \n",
      "                                                                                <><><>        <><>  <>                                                                                                  \n",
      "                                                                              <><>  <>      <><><><><>                                                                                                  \n",
      "                                                                            <><><><><>    <><>      <>                                                                                                  \n",
      "                                                                          <><>      <>  <><><>    <><>                                                                                                  \n",
      "                                                                        <><><>    <><><><>  <>  <><><>                                                                                                  \n",
      "                                                                      <><>  <>  <><>    <><><><><>  <>                                                                                                  \n",
      "                                                                    <><><><><><><><>  <><>      <><><>                                                                                                  \n",
      "                                                                  <><>            <><><><>    <><>  <>                                                                                                  \n",
      "                                                                <><><>          <><>    <>  <><><><><>                                                                                                  \n",
      "                                                              <><>  <>        <><><>  <><><><>      <>                                                                                                  \n",
      "                                                            <><><><><>      <><>  <><><>    <>    <><>                                                                                                  \n",
      "                                                          <><>      <>    <><><><><>  <>  <><>  <><><>                                                                                                  \n",
      "                                                        <><><>    <><>  <><>      <><><><><><><><>  <>                                                                                                  \n",
      "                                                      <><>  <>  <><><><><><>    <><>            <><><>                                                                                                  \n",
      "                                                    <><><><><><><>        <>  <><><>          <><>  <>                                                                                                  \n",
      "                                                  <><>          <>      <><><><>  <>        <><><><><>                                                                                                  \n",
      "                                                <><><>        <><>    <><>    <><><>      <><>      <>                        "
     ]
    }
   ],
   "source": [
    "from random import randint\n",
    "from time import sleep\n",
    "\n",
    "def printStates(statesList):\n",
    "    for i in range(len(statesList)):\n",
    "        if statesList[i] == 0:\n",
    "            print(\"  \", end=\"\")\n",
    "        else:\n",
    "            print(\"<>\", end=\"\")\n",
    "    print(\"\")\n",
    "\n",
    "\n",
    "def updateStates(statesList, bufferList, ruleList):\n",
    "    \n",
    "    # first element\n",
    "    neigh = '{}{}{}'.format(statesList[len(statesList)-1], statesList[0], statesList[1])\n",
    "    bufferList[0] = rule[neigh]\n",
    "    \n",
    "    # middle elements\n",
    "    for i in range(len(statesList)-1):\n",
    "        neigh = '{}{}{}'.format(statesList[i-1], statesList[i], statesList[i+1])\n",
    "        bufferList[i] = rule[neigh]\n",
    "        \n",
    "    # last element\n",
    "    neigh = '{}{}{}'.format(statesList[len(statesList)-2], statesList[len(statesList)-1], statesList[0])\n",
    "    bufferList[len(statesList)-1] = rule[neigh]\n",
    "    \n",
    "\n",
    "    \n",
    "\n",
    "numStates = 100\n",
    "numSteps = 50\n",
    "rule = {'000': 0, '001': 1, '010': 1, '011': 1, '100': 0, '101': 1, '110': 1, '111': 0}\n",
    "\n",
    "        \n",
    "statesBuffer = [0] * numStates\n",
    "states = [0] * numStates\n",
    "states[50] = 1\n",
    "\n",
    "# init states randomly with 0 an 1\n",
    "#for i in range(numStates):\n",
    "#    states.append(randint(0, 1))\n",
    "\n",
    "# print initial states\n",
    "printStates(states)\n",
    "        \n",
    "# update and print new states\n",
    "for i in range(numSteps):\n",
    "    sleep(0.1)\n",
    "    \n",
    "    updateStates(states, statesBuffer, rule)\n",
    "    \n",
    "    # swap states with buffer\n",
    "    tmp = states\n",
    "    states = statesBuffer\n",
    "    statesBuffer = tmp\n",
    "    \n",
    "    \n",
    "    printStates(states)\n",
    "    "
   ]
  }
 ],
 "metadata": {
  "kernelspec": {
   "display_name": "Python 3",
   "language": "python",
   "name": "python3"
  },
  "language_info": {
   "codemirror_mode": {
    "name": "ipython",
    "version": 3
   },
   "file_extension": ".py",
   "mimetype": "text/x-python",
   "name": "python",
   "nbconvert_exporter": "python",
   "pygments_lexer": "ipython3",
   "version": "3.5.3"
  }
 },
 "nbformat": 4,
 "nbformat_minor": 2
}
