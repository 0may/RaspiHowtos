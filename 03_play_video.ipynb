{
 "cells": [
  {
   "cell_type": "markdown",
   "metadata": {},
   "source": [
    "# How to play videos"
   ]
  },
  {
   "cell_type": "markdown",
   "metadata": {},
   "source": [
    "There is no simple way to play video in Python especially on the Raspberry Pi with its limited power and resources. \n",
    "\n",
    "The most performant video player on Raspberry Pi is omxplayer, which is run from the terminal. It is usually preinstalled on Raspbian. If not, install with\n",
    "```\n",
    "> sudo apt-get install omxplayer\n",
    "```\n",
    "then play a video with\n",
    "```\n",
    "> omxplayer video_file_path\n",
    "```\n",
    "The Python module *omxplayer-wrapper* exists to control omxplayer from Python, but it did not work for me out of the box. \n",
    "\n",
    "The idea now is to run and kill omxplayer instances to play video and overlay the display with a black surface when no video is playing using the *pygame* module.\n",
    "\n",
    "If you encounter errors when installing *pygame* with *pip*\n",
    "```\n",
    "> pip3 install pygame\n",
    "```\n",
    "\n",
    "use the package provided by Raspbian:\n",
    "```\n",
    "> sudo apt-get install python3-pygame\n",
    "```"
   ]
  },
  {
   "cell_type": "code",
   "execution_count": 51,
   "metadata": {},
   "outputs": [],
   "source": [
    "import os\n",
    "import sys\n",
    "import subprocess\n",
    "import pygame\n",
    "import time"
   ]
  },
  {
   "cell_type": "markdown",
   "metadata": {},
   "source": [
    "Open a pygame display and fill it black. Note that we use a 640x480 window here in the tutorial, so you still have access to this notebook. For your work you will usually do everything fullscreen (see the line that includes *pygame.FULLSCREEN*)."
   ]
  },
  {
   "cell_type": "code",
   "execution_count": 54,
   "metadata": {},
   "outputs": [
    {
     "data": {
      "text/plain": [
       "<rect(0, 0, 640, 480)>"
      ]
     },
     "execution_count": 54,
     "metadata": {},
     "output_type": "execute_result"
    }
   ],
   "source": [
    "# In this tutorial we show only a 640x480 window. In real life you would have\n",
    "# pygame's black display fill the whole screen and run omxplayer in fullscreen.\n",
    "\n",
    "# Set window position and size variables (only for this tutorial)\n",
    "winpos = (100,100)\n",
    "winsize = (640, 480)\n",
    "\n",
    "# set window position (only for this tutorial)\n",
    "os.environ['SDL_VIDEO_WINDOW_POS'] = \"%d,%d\" % winpos\n",
    "\n",
    "# init pygame\n",
    "pygame.init()\n",
    "pygame.mouse.set_visible(False)\n",
    "\n",
    "# use pygame to show black screen when no video is shown.\n",
    "# You want to use the FULLSCREEN line in your work.\n",
    "\n",
    "screen = pygame.display.set_mode(winsize) # only for this tutorial\n",
    "# screen = pygame.display.set_mode((0, 0), pygame.FULLSCREEN)\n",
    "\n",
    "# fill display black\n",
    "screen.fill((0, 0, 0))"
   ]
  },
  {
   "cell_type": "markdown",
   "metadata": {},
   "source": [
    "Now you can play a video using the system's omxplayer. Again, we start omxplayer in a window for you to have access to the notebook. Look at the man-page of omxplayer to get information about the options used as well as further options:\n",
    "```\n",
    "> man omxplayer\n",
    "```\n",
    "Note that the execution of omxplayer is *blocking*, which means that your program waits for omxplayer to finish! This may be useful if you want to run some code after the video has played, but you loose control while the video is playing."
   ]
  },
  {
   "cell_type": "code",
   "execution_count": 55,
   "metadata": {},
   "outputs": [
    {
     "data": {
      "text/plain": [
       "0"
      ]
     },
     "execution_count": 55,
     "metadata": {},
     "output_type": "execute_result"
    }
   ],
   "source": [
    "os.system('omxplayer --no-osd --no-keys --win 100,100,740,580 resources/vid.mp4')"
   ]
  },
  {
   "cell_type": "markdown",
   "metadata": {},
   "source": [
    "An option with more control over the omxplayer process is to use *subprocess*, which starts a program in a new process. Note that the call is *non-blocking*, which means that the execution of your program does not wait at this line of code. Now you can run some other code while the video plays, e.g. kill all omxplayer instances.\n",
    "\n",
    "With the object returned by subprocess.Popen you can wait for the process to end or test if the process has terminated.\n",
    "\n",
    "Note that Popen requires a list of arguments as input, not a string."
   ]
  },
  {
   "cell_type": "code",
   "execution_count": 61,
   "metadata": {},
   "outputs": [],
   "source": [
    "# run omxplayer in a separate process\n",
    "cmd = ['omxplayer', '--no-osd', '--no-keys', '--win' ,'100,100,740,580', 'resources/vid.mp4']\n",
    "p = subprocess.Popen(cmd)"
   ]
  },
  {
   "cell_type": "code",
   "execution_count": 49,
   "metadata": {},
   "outputs": [
    {
     "name": "stdout",
     "output_type": "stream",
     "text": [
      "Waiting for omxplayer to terminate.\n",
      "omxplayer has terminated!\n"
     ]
    }
   ],
   "source": [
    "# run omxplayer in a separate process and wait for its termination\n",
    "cmd = ['omxplayer', '--no-osd', '--no-keys', '--win' ,'100,100,740,580', 'resources/vid.mp4']\n",
    "p = subprocess.Popen(cmd)\n",
    "\n",
    "print('Waiting for omxplayer to terminate.')\n",
    "\n",
    "p.wait() # wait blocks the execution of your code until the process has terminated\n",
    "\n",
    "print('omxplayer has terminated!')"
   ]
  },
  {
   "cell_type": "code",
   "execution_count": 78,
   "metadata": {},
   "outputs": [
    {
     "name": "stdout",
     "output_type": "stream",
     "text": [
      "omxplayer started\n",
      "omxplayer is running now for 0.5264863967895508 seconds.\n",
      "omxplayer is running now for 1.0286943912506104 seconds.\n",
      "omxplayer is running now for 1.5297937393188477 seconds.\n",
      "omxplayer is running now for 2.0311126708984375 seconds.\n",
      "omxplayer is running now for 2.5317862033843994 seconds.\n",
      "omxplayer is running now for 3.0331056118011475 seconds.\n",
      "omxplayer is running now for 3.5364232063293457 seconds.\n",
      "omxplayer is running now for 4.038497447967529 seconds.\n",
      "omxplayer is running now for 4.541908025741577 seconds.\n",
      "omxplayer has terminated!\n"
     ]
    }
   ],
   "source": [
    "# run omxplayer in a separate process and repeatedly check for its termination\n",
    "starttime = time.time()\n",
    "\n",
    "cmd = ['omxplayer', '--no-osd', '--no-keys', '--win' ,'100,100,740,580', 'resources/vid.mp4']\n",
    "p = subprocess.Popen(cmd)\n",
    "\n",
    "print('omxplayer started')\n",
    "\n",
    "while p.poll() is None: # poll return None as long as the process is running\n",
    "    time.sleep(0.5)\n",
    "    print('omxplayer is running now for {} seconds.'.format(time.time() - starttime))\n",
    "    \n",
    "print('omxplayer has terminated!')"
   ]
  },
  {
   "cell_type": "code",
   "execution_count": 79,
   "metadata": {},
   "outputs": [
    {
     "data": {
      "text/plain": [
       "256"
      ]
     },
     "execution_count": 79,
     "metadata": {},
     "output_type": "execute_result"
    }
   ],
   "source": [
    "# kill all omxplayer instances\n",
    "os.system('killall omxplayer.bin')"
   ]
  },
  {
   "cell_type": "code",
   "execution_count": 84,
   "metadata": {},
   "outputs": [],
   "source": [
    "# quit pygame\n",
    "pygame.quit()"
   ]
  },
  {
   "cell_type": "markdown",
   "metadata": {},
   "source": [
    "#### Running in a loop and exiting pygame\n",
    "\n",
    "Pygame provides you events when something happens, e.g. mouse or keyboard input or when the pygame display is about to close. Here is a full program running a loop to check for the QUIT event, ESQ and Q key press to quit and play a video on a button press on pin 11. Again, the button is connected to pin 11 on one side and to GND on the other side (pull-up resistor scenario)."
   ]
  },
  {
   "cell_type": "code",
   "execution_count": 86,
   "metadata": {},
   "outputs": [],
   "source": [
    "import os\n",
    "import sys\n",
    "import subprocess\n",
    "import pygame\n",
    "import time\n",
    "import RPi.GPIO as GPIO\n",
    "\n",
    "GPIO.setmode(GPIO.BOARD)\n",
    "GPIO.setup(11, GPIO.IN, pull_up_down=GPIO.PUD_UP)\n",
    "\n",
    "# Set window position and size variables (only for this tutorial)\n",
    "winpos = (100,100)\n",
    "winsize = (640, 480)\n",
    "\n",
    "# set window position (only for this tutorial)\n",
    "os.environ['SDL_VIDEO_WINDOW_POS'] = \"%d,%d\" % winpos\n",
    "\n",
    "# init pygame\n",
    "pygame.init()\n",
    "pygame.mouse.set_visible(False)\n",
    "\n",
    "# use pygame to show black screen when no video is shown.\n",
    "# You want to use the FULLSCREEN line in your work.\n",
    "screen = pygame.display.set_mode(winsize) # only for this tutorial\n",
    "# screen = pygame.display.set_mode((0, 0), pygame.FULLSCREEN)\n",
    "\n",
    "# fill display black\n",
    "screen.fill((0, 0, 0))\n",
    "\n",
    "\n",
    "lastPinValue = GPIO.HIGH\n",
    "\n",
    "quit = False\n",
    "runtime = 30.0\n",
    "starttime = time.time()\n",
    "\n",
    "while time.time() - starttime < runtime and quit == False:\n",
    "    \n",
    "    # if QUIT event occurs or ESC or Q button is pressed, \n",
    "    # set quit variable to True to exit the loop\n",
    "    for event in pygame.event.get():\n",
    "        if event.type == pygame.QUIT:\n",
    "            quit = True   \n",
    "        if event.type == pygame.KEYDOWN:\n",
    "            if event.key == pygame.K_ESCAPE or event.unicode == 'q':\n",
    "                quit = True\n",
    "       \n",
    "    # play video when button is pressed\n",
    "    if GPIO.input(11) == GPIO.LOW and lastPinValue == GPIO.HIGH:\n",
    "        cmd = ['omxplayer', '--no-osd', '--no-keys', '--win' ,'100,100,740,580', 'resources/vid.mp4']\n",
    "        p = subprocess.Popen(cmd)\n",
    "        lastPinValue = GPIO.LOW\n",
    "    elif GPIO.input(11) == GPIO.HIGH and lastPinValue == GPIO.LOW:\n",
    "        # uncomment the line below to play video only as long as button is pressed\n",
    "        # os.system('killall omxplayer.bin')  \n",
    "        lastPinValue = GPIO.HIGH\n",
    "        \n",
    "# before application exits...\n",
    "os.system('killall omxplayer.bin') # kill omxplayer if running\n",
    "pygame.quit()                      # quit pygame\n",
    "GPIO.cleanup()                     # free GPIO resources"
   ]
  }
 ],
 "metadata": {
  "kernelspec": {
   "display_name": "Python 3",
   "language": "python",
   "name": "python3"
  },
  "language_info": {
   "codemirror_mode": {
    "name": "ipython",
    "version": 3
   },
   "file_extension": ".py",
   "mimetype": "text/x-python",
   "name": "python",
   "nbconvert_exporter": "python",
   "pygments_lexer": "ipython3",
   "version": "3.5.3"
  }
 },
 "nbformat": 4,
 "nbformat_minor": 2
}
