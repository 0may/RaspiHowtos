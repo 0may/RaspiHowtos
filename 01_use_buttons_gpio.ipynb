{
 "cells": [
  {
   "cell_type": "markdown",
   "metadata": {},
   "source": [
    "# How to use buttons/switches as GPIO input"
   ]
  },
  {
   "cell_type": "markdown",
   "metadata": {},
   "source": [
    "The use of buttons or switches on a Raspberry Pi is quite simple. One side of the switch is connected to the GPIO pin of your choice, the other side to GND or 3.3V.\n",
    "\n",
    "The Raspberry Pi has some circuitry built-in that enables this simple use. These circuits must be enabled when the GPIO pin is setup. They use *pull-up* and *pull-down* resistors to connect the input pin to a reference voltage (pull-up: 3.3V, pull-down: GND) when the button/switch is open. \n",
    "\n",
    "[Schematics of pull-up (top) and pull-down (bottom) resistor circuitry](https://elinux.org/File:EGHS-PullUpDownSwitch.jpg)\n",
    "\n",
    "More details on GPIO input circuits using pull-up/-down resistors:\n",
    "https://elinux.org/RPi_Tutorial_EGHS:Switch_Input#PullUp.2FPullDown\n",
    "\n",
    "More details on Raspberry Pi GPIO pins and pinout diagram:\n",
    "https://learn.sparkfun.com/tutorials/raspberry-gpio/gpio-pinout"
   ]
  },
  {
   "cell_type": "markdown",
   "metadata": {},
   "source": [
    "#### Setup GPIO in Python"
   ]
  },
  {
   "cell_type": "code",
   "execution_count": 1,
   "metadata": {},
   "outputs": [
    {
     "ename": "ModuleNotFoundError",
     "evalue": "No module named 'RPi'",
     "output_type": "error",
     "traceback": [
      "\u001b[0;31m---------------------------------------------------------------------------\u001b[0m",
      "\u001b[0;31mModuleNotFoundError\u001b[0m                       Traceback (most recent call last)",
      "\u001b[0;32m<ipython-input-1-093e15444ed6>\u001b[0m in \u001b[0;36m<module>\u001b[0;34m()\u001b[0m\n\u001b[1;32m      1\u001b[0m \u001b[0;31m# import GPIO module\u001b[0m\u001b[0;34m\u001b[0m\u001b[0;34m\u001b[0m\u001b[0m\n\u001b[0;32m----> 2\u001b[0;31m \u001b[0;32mimport\u001b[0m \u001b[0mRPi\u001b[0m\u001b[0;34m.\u001b[0m\u001b[0mGPIO\u001b[0m \u001b[0;32mas\u001b[0m \u001b[0mGPIO\u001b[0m\u001b[0;34m\u001b[0m\u001b[0m\n\u001b[0m\u001b[1;32m      3\u001b[0m \u001b[0;34m\u001b[0m\u001b[0m\n\u001b[1;32m      4\u001b[0m \u001b[0;31m# set pin numbering mode:\u001b[0m\u001b[0;34m\u001b[0m\u001b[0;34m\u001b[0m\u001b[0m\n\u001b[1;32m      5\u001b[0m \u001b[0;31m# GPIO.BOARD: Use consecutive pin numbering\u001b[0m\u001b[0;34m\u001b[0m\u001b[0;34m\u001b[0m\u001b[0m\n",
      "\u001b[0;31mModuleNotFoundError\u001b[0m: No module named 'RPi'"
     ]
    }
   ],
   "source": [
    "# import GPIO module\n",
    "import RPi.GPIO as GPIO\n",
    "\n",
    "# set pin numbering mode:\n",
    "# GPIO.BOARD: Use consecutive pin numbering\n",
    "#             = the number in the Pin# column in the pinout image\n",
    "# GPIO.BCM:   Use numbering used by the Broadcomm chip\n",
    "#             = the number in GPIO** in the NAME column of the pinout image\n",
    "GPIO.setmode(GPIO.BOARD)"
   ]
  },
  {
   "cell_type": "markdown",
   "metadata": {},
   "source": [
    "#### Button use with pull-down resistor"
   ]
  },
  {
   "cell_type": "markdown",
   "metadata": {},
   "source": [
    "Connect one side of the button to GPIO pin 11, the other side to #**3.3V**. Then setup pin 11 as input with **pull-down** resistor:"
   ]
  },
  {
   "cell_type": "code",
   "execution_count": 2,
   "metadata": {},
   "outputs": [],
   "source": [
    "GPIO.setup(11, GPIO.IN, pull_up_down=GPIO.PUD_DOWN)"
   ]
  },
  {
   "cell_type": "markdown",
   "metadata": {},
   "source": [
    "Now you can read the pin's value and use it:"
   ]
  },
  {
   "cell_type": "code",
   "execution_count": 9,
   "metadata": {},
   "outputs": [
    {
     "name": "stdout",
     "output_type": "stream",
     "text": [
      "Pin value: 0\n",
      "Pin input is LOW, switch is OPEN.\n"
     ]
    }
   ],
   "source": [
    "# read and print pin value\n",
    "pinValue = GPIO.input(11)\n",
    "print(\"Pin value: {}\".format(pinValue))\n",
    "\n",
    "# test for HIGH or LOW value and print status message\n",
    "if pinValue == GPIO.HIGH:\n",
    "    print(\"Pin input is HIGH, switch is CLOSED.\")\n",
    "else:\n",
    "    print(\"Pin input is LOW, switch is OPEN.\")"
   ]
  },
  {
   "cell_type": "markdown",
   "metadata": {},
   "source": [
    "#### Button use with pull-up resistor"
   ]
  },
  {
   "cell_type": "markdown",
   "metadata": {},
   "source": [
    "Connect one side of the button to GPIO pin 11, the other side to **GND**. Then setup pin 11 as input with **pull-up** resistor:"
   ]
  },
  {
   "cell_type": "code",
   "execution_count": 11,
   "metadata": {},
   "outputs": [],
   "source": [
    "GPIO.setup(11, GPIO.IN, pull_up_down=GPIO.PUD_UP)"
   ]
  },
  {
   "cell_type": "markdown",
   "metadata": {},
   "source": [
    "Now you can read the pin's value and use it. \n",
    "\n",
    "Note that the **logic is inverse to the pull-down scenario**, i.e. the input value is LOW when button is CLOSED."
   ]
  },
  {
   "cell_type": "code",
   "execution_count": 15,
   "metadata": {},
   "outputs": [
    {
     "name": "stdout",
     "output_type": "stream",
     "text": [
      "Pin value: 0\n",
      "Pin input is LOW, switch is CLOSED.\n"
     ]
    }
   ],
   "source": [
    "# read and print pin value\n",
    "pinValue = GPIO.input(11)\n",
    "print(\"Pin value: {}\".format(pinValue))\n",
    "\n",
    "# test for HIGH or LOW value\n",
    "if pinValue == GPIO.LOW:\n",
    "    print(\"Pin input is LOW, switch is CLOSED.\")\n",
    "else:\n",
    "    print(\"Pin input is HIGH, switch is OPEN.\")"
   ]
  },
  {
   "cell_type": "markdown",
   "metadata": {},
   "source": [
    "#### Free GPIO resources after use"
   ]
  },
  {
   "cell_type": "code",
   "execution_count": 16,
   "metadata": {},
   "outputs": [],
   "source": [
    "# free GPIO resources after you are done\n",
    "# for other processes to use GPIO\n",
    "GPIO.cleanup()"
   ]
  },
  {
   "cell_type": "markdown",
   "metadata": {},
   "source": [
    "## Switch an LED on and off using a button"
   ]
  },
  {
   "cell_type": "markdown",
   "metadata": {},
   "source": [
    "Connect one side of the button on pin 11, the other on GND. That means we will be using the **pull-up** resistor.\n",
    "\n",
    "Connect an LED (light emitting diode) to pin 13. LEDs have a long leg (anode), which has to go to the + side of your circuit, and a short leg (cathode), which has to go to the - side, i.e. to GND here. You can also identify the cathode side by the flat spot at the LED's rim. We always connect a resistor in series with an LED to limit current flow and adjust the voltage at the LED, thus protecting the LED and controlling its brightness. Here, we use a 330 Ohm resistor. Usually, you select a resistor according to supply voltage and the LED's specification.\n",
    "\n",
    "![](resources/button_led_Steckplatine.png)\n",
    "\n",
    "The code below evaluates the button pin only once and must be executed several times for changing inputs. Long or infinite loops would lock up this notebook. Try to copy this code to a script and adjust it to run the pin read and evalutation in an infinite loop. Then execute the script with the python interpreter for instant LED switching."
   ]
  },
  {
   "cell_type": "code",
   "execution_count": 2,
   "metadata": {},
   "outputs": [
    {
     "ename": "ModuleNotFoundError",
     "evalue": "No module named 'RPi'",
     "output_type": "error",
     "traceback": [
      "\u001b[0;31m---------------------------------------------------------------------------\u001b[0m",
      "\u001b[0;31mModuleNotFoundError\u001b[0m                       Traceback (most recent call last)",
      "\u001b[0;32m<ipython-input-2-a067e80b90fe>\u001b[0m in \u001b[0;36m<module>\u001b[0;34m()\u001b[0m\n\u001b[1;32m      1\u001b[0m \u001b[0;31m# import GPIO module\u001b[0m\u001b[0;34m\u001b[0m\u001b[0;34m\u001b[0m\u001b[0m\n\u001b[0;32m----> 2\u001b[0;31m \u001b[0;32mimport\u001b[0m \u001b[0mRPi\u001b[0m\u001b[0;34m.\u001b[0m\u001b[0mGPIO\u001b[0m \u001b[0;32mas\u001b[0m \u001b[0mGPIO\u001b[0m\u001b[0;34m\u001b[0m\u001b[0m\n\u001b[0m\u001b[1;32m      3\u001b[0m \u001b[0;34m\u001b[0m\u001b[0m\n\u001b[1;32m      4\u001b[0m \u001b[0;31m# set pin numbering mode to BOARD\u001b[0m\u001b[0;34m\u001b[0m\u001b[0;34m\u001b[0m\u001b[0m\n\u001b[1;32m      5\u001b[0m \u001b[0mGPIO\u001b[0m\u001b[0;34m.\u001b[0m\u001b[0msetmode\u001b[0m\u001b[0;34m(\u001b[0m\u001b[0mGPIO\u001b[0m\u001b[0;34m.\u001b[0m\u001b[0mBOARD\u001b[0m\u001b[0;34m)\u001b[0m\u001b[0;34m\u001b[0m\u001b[0m\n",
      "\u001b[0;31mModuleNotFoundError\u001b[0m: No module named 'RPi'"
     ]
    }
   ],
   "source": [
    "# import GPIO module\n",
    "import RPi.GPIO as GPIO\n",
    "\n",
    "# set pin numbering mode to BOARD\n",
    "GPIO.setmode(GPIO.BOARD)\n",
    "\n",
    "# setup pin 11 for button input\n",
    "GPIO.setup(11, GPIO.IN, pull_up_down=GPIO.PUD_UP)\n",
    "\n",
    "# setup pin 13 for output to power the LED from HIGH output\n",
    "GPIO.setup(13, GPIO.OUT)\n",
    "\n",
    "\n",
    "# read button pin value and switch LED on/off by setting the output HIGH/LOW\n",
    "pinValue = GPIO.input(11)\n",
    "\n",
    "if pinValue == GPIO.LOW:\n",
    "    print(\"Button input is LOW, button is PRESSED, switching LED ON\")\n",
    "    GPIO.set(13, GPIO.HIGH)\n",
    "else:\n",
    "    print(\"Button input is HIGH, button is NOT PRESSED, switching LED OFF\")\n",
    "    GPIO.set(13, GPIO.HIGH)\n",
    "    \n",
    "GPIO.cleanup()"
   ]
  }
 ],
 "metadata": {
  "kernelspec": {
   "display_name": "Python 3",
   "language": "python",
   "name": "python3"
  },
  "language_info": {
   "codemirror_mode": {
    "name": "ipython",
    "version": 3
   },
   "file_extension": ".py",
   "mimetype": "text/x-python",
   "name": "python",
   "nbconvert_exporter": "python",
   "pygments_lexer": "ipython3",
   "version": "3.6.5"
  }
 },
 "nbformat": 4,
 "nbformat_minor": 2
}
