{
 "cells": [
  {
   "cell_type": "markdown",
   "metadata": {},
   "source": [
    "# How to play sounds"
   ]
  },
  {
   "cell_type": "markdown",
   "metadata": {},
   "source": [
    "The **simpleaudio** module (Python3 only) is the most simple way to play audio (hence the name). There are other modules like PyAudio or PyGame that can play audio, which are not covered here."
   ]
  },
  {
   "cell_type": "code",
   "execution_count": 23,
   "metadata": {},
   "outputs": [],
   "source": [
    "import simpleaudio as sa"
   ]
  },
  {
   "cell_type": "markdown",
   "metadata": {},
   "source": [
    "simpleaudio works with WAV files and raw data. We usually load sounds from WAV files:"
   ]
  },
  {
   "cell_type": "code",
   "execution_count": 24,
   "metadata": {},
   "outputs": [],
   "source": [
    "# load wav file\n",
    "soundObject = sa.WaveObject.from_wave_file('resources/sound.wav')"
   ]
  },
  {
   "cell_type": "markdown",
   "metadata": {},
   "source": [
    "Here is how you start playing a sound. Note that you need to call the wait_done() function if you would like your program to pause until playing is done."
   ]
  },
  {
   "cell_type": "code",
   "execution_count": 12,
   "metadata": {},
   "outputs": [
    {
     "name": "stdout",
     "output_type": "stream",
     "text": [
      "Playing sound...\n",
      "Done playing sound.\n"
     ]
    }
   ],
   "source": [
    "# start playing\n",
    "playObject = soundObject.play()\n",
    "print(\"Playing sound...\")\n",
    "\n",
    "# wait until playing is done \n",
    "playObject.wait_done()\n",
    "print(\"Done playing sound.\")"
   ]
  },
  {
   "cell_type": "markdown",
   "metadata": {},
   "source": [
    "#### Play sound on a button press"
   ]
  },
  {
   "cell_type": "markdown",
   "metadata": {},
   "source": [
    "Connect one side of a switch to pin 11, the other side to GND. We are going to use the Raspberry Pi's built-in pull-up resistor. "
   ]
  },
  {
   "cell_type": "code",
   "execution_count": 26,
   "metadata": {},
   "outputs": [],
   "source": [
    "import RPi.GPIO as GPIO\n",
    "import time\n",
    "\n",
    "GPIO.setmode(GPIO.BOARD)\n",
    "GPIO.setup(11, GPIO.IN, pull_up_down=GPIO.PUD_UP)"
   ]
  },
  {
   "cell_type": "markdown",
   "metadata": {},
   "source": [
    "Play the full-length sound when button is pressed:"
   ]
  },
  {
   "cell_type": "code",
   "execution_count": 30,
   "metadata": {},
   "outputs": [
    {
     "name": "stdout",
     "output_type": "stream",
     "text": [
      "Running for 20.0 secs...\n",
      "Done.\n"
     ]
    }
   ],
   "source": [
    "runtime = 20.0 # run the loop for 'runtime' seconds\n",
    "starttime = time.time()  \n",
    "\n",
    "print(\"Running for {} secs...\".format(runtime))\n",
    "\n",
    "while time.time() - starttime < runtime:\n",
    "    if GPIO.input(11) == GPIO.LOW:\n",
    "        playObject = soundObject.play()\n",
    "        playObject.wait_done();\n",
    "        \n",
    "print(\"Done.\")"
   ]
  },
  {
   "cell_type": "markdown",
   "metadata": {},
   "source": [
    "Play the sound only as long as the button is pressed:"
   ]
  },
  {
   "cell_type": "code",
   "execution_count": 31,
   "metadata": {},
   "outputs": [
    {
     "name": "stdout",
     "output_type": "stream",
     "text": [
      "Running for 20.0 secs...\n",
      "Done.\n"
     ]
    }
   ],
   "source": [
    "runtime = 20.0 # run the loop for 'runtime' seconds      \n",
    "starttime = time.time()\n",
    "\n",
    "lastPinValue = GPIO.HIGH\n",
    "playObject = 0\n",
    "\n",
    "print(\"Running for {} secs...\".format(runtime))\n",
    "\n",
    "while time.time() - starttime < runtime:\n",
    "    if GPIO.input(11) == GPIO.LOW and lastPinValue == GPIO.HIGH:\n",
    "        playObject = soundObject.play()\n",
    "        lastPinValue = GPIO.LOW\n",
    "    elif GPIO.input(11) == GPIO.HIGH and lastPinValue == GPIO.LOW:\n",
    "        playObject.stop()\n",
    "        lastPinValue = GPIO.HIGH\n",
    "        \n",
    "print(\"Done.\")"
   ]
  },
  {
   "cell_type": "code",
   "execution_count": 22,
   "metadata": {},
   "outputs": [],
   "source": [
    "# free GPIO resources\n",
    "GPIO.cleanup()"
   ]
  }
 ],
 "metadata": {
  "kernelspec": {
   "display_name": "Python 3",
   "language": "python",
   "name": "python3"
  },
  "language_info": {
   "codemirror_mode": {
    "name": "ipython",
    "version": 3
   },
   "file_extension": ".py",
   "mimetype": "text/x-python",
   "name": "python",
   "nbconvert_exporter": "python",
   "pygments_lexer": "ipython3",
   "version": "3.5.3"
  }
 },
 "nbformat": 4,
 "nbformat_minor": 2
}
